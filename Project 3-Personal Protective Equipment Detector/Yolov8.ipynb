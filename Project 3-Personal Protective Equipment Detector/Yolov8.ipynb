{
 "cells": [
  {
   "cell_type": "code",
   "execution_count": null,
   "id": "71869ac1",
   "metadata": {},
   "outputs": [],
   "source": [
    "from ultralytics import YOLO"
   ]
  },
  {
   "cell_type": "code",
   "execution_count": null,
   "id": "30072074",
   "metadata": {},
   "outputs": [],
   "source": [
    "!yolo task = detect mode = predict model = yolov8l.pt conf = 0.25 source = 'https://ultralytics.com/images/bus.jpg'"
   ]
  },
  {
   "cell_type": "markdown",
   "id": "4cf70daf",
   "metadata": {},
   "source": [
    "# Custom Data Training"
   ]
  },
  {
   "cell_type": "code",
   "execution_count": 10,
   "id": "ef29e746",
   "metadata": {},
   "outputs": [
    {
     "name": "stdout",
     "output_type": "stream",
     "text": [
      "^C\n"
     ]
    }
   ],
   "source": [
    "!yolo task = detect mode = train model = yolov8l.pt data = \"../Project 3-Personal Protective Equipment Detector/Construction Site Safety.v28-yolov5s.yolov8/data.yaml\" epochs = 50 imgsz = 640 "
   ]
  },
  {
   "cell_type": "code",
   "execution_count": null,
   "id": "7bf9aa96",
   "metadata": {},
   "outputs": [],
   "source": []
  }
 ],
 "metadata": {
  "kernelspec": {
   "display_name": ".venv",
   "language": "python",
   "name": "python3"
  },
  "language_info": {
   "codemirror_mode": {
    "name": "ipython",
    "version": 3
   },
   "file_extension": ".py",
   "mimetype": "text/x-python",
   "name": "python",
   "nbconvert_exporter": "python",
   "pygments_lexer": "ipython3",
   "version": "3.10.0"
  }
 },
 "nbformat": 4,
 "nbformat_minor": 5
}
